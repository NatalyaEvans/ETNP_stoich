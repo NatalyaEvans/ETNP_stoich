{
  "nbformat": 4,
  "nbformat_minor": 0,
  "metadata": {
    "colab": {
      "provenance": [],
      "authorship_tag": "ABX9TyMbVdMnrmWhtyXKCFkWlCIY",
      "include_colab_link": true
    },
    "kernelspec": {
      "name": "python3",
      "display_name": "Python 3"
    },
    "language_info": {
      "name": "python"
    }
  },
  "cells": [
    {
      "cell_type": "markdown",
      "metadata": {
        "id": "view-in-github",
        "colab_type": "text"
      },
      "source": [
        "<a href=\"https://colab.research.google.com/github/NatalyaEvans/ETNP_stoich/blob/main/pyompa/endmember_sensitivity_fns.ipynb\" target=\"_parent\"><img src=\"https://colab.research.google.com/assets/colab-badge.svg\" alt=\"Open In Colab\"/></a>"
      ]
    },
    {
      "cell_type": "markdown",
      "source": [
        "This script is designed to initialize functions to determine sensitivities in endmember nutrients\n",
        "\n",
        "Make the stoichiometry perturbation more robust\n",
        "Comment more\n",
        "Make sure that the full pyompa script can load this in"
      ],
      "metadata": {
        "id": "foq7bzGkZdZN"
      }
    },
    {
      "cell_type": "markdown",
      "source": [
        "First, load in weightings sensitivity"
      ],
      "metadata": {
        "id": "Jiqs8d7WZpwa"
      }
    },
    {
      "cell_type": "code",
      "execution_count": null,
      "metadata": {
        "id": "w3ZAx3E0ZNxf"
      },
      "outputs": [],
      "source": [
        "#Install gp15wmascripts\n",
        "!pip uninstall -y gp15wma\n",
        "%cd /content/\n",
        "!rm -rf gp15wmascripts\n",
        "!git clone https://github.com/nitrogenlab/gp15wmascripts\n",
        "%cd /content/gp15wmascripts\n",
        "!git checkout main\n",
        "!git log -1\n",
        "!pip install .\n",
        "%cd /content/\n",
        "\n",
        "%reload_ext autoreload\n",
        "%autoreload 2\n",
        "from importlib import reload\n",
        "import gp15wma\n",
        "reload(gp15wma)"
      ]
    },
    {
      "cell_type": "code",
      "source": [
        "from gp15wma.sensitivity import BaseSensitivityAnalysis, OmpaArguments"
      ],
      "metadata": {
        "id": "44eM1qS7Zyis"
      },
      "execution_count": null,
      "outputs": []
    },
    {
      "cell_type": "markdown",
      "source": [
        "Next, define functions for endmember sensitivities using the weightings sensitivity structure"
      ],
      "metadata": {
        "id": "a66ytKNCZ8rT"
      }
    },
    {
      "cell_type": "code",
      "source": [
        "def perturb_endmember_df(df, variation_range, rng):\n",
        "  new_df = OrderedDict([\n",
        "      (\"Params\", df[\"Params\"]) #endmember name column\n",
        "  ])\n",
        "  params_to_perturb = [\"CT\", \"SA\", \"Phosphate\", \"Nitrate\", \"Silicate\", \"tCO2\"]\n",
        "  for param_name in params_to_perturb:\n",
        "    values = list(df[param_name])\n",
        "    new_values = [rng.uniform(value-variation_range[param_name],\n",
        "                              value+variation_range[param_name])\n",
        "                  for value in values]\n",
        "    new_df[param_name] = new_values\n",
        "\n",
        "  return pd.DataFrame(new_df)\n",
        "\n",
        "\n",
        "def perturb_endmember_df_stoichiometrically(df, stoichiometry, rng,\n",
        "                                            perturbation_limits=(-1,1)):\n",
        "  #in Talia's project, pertubation_limits corresponds to phosphate which\n",
        "  # has ratio 1 wrt to the converted param\n",
        "  \n",
        "  new_df = OrderedDict([\n",
        "      (\"Params\", df[\"Params\"]), #endmember name column\n",
        "      (\"CT\", df[\"CT\"]),\n",
        "      (\"SA\", df[\"SA\"]),\n",
        "  ])\n",
        "\n",
        "  params_to_perturb = [\"Phosphate\", \"Nitrate\", \"Silicate\", \"tCO2\"]\n",
        "  #sample a different perturbation for each row in the data frame\n",
        "  sampled_perturbations = [rng.uniform(perturbation_limits[0],\n",
        "                                       perturbation_limits[1])\n",
        "                           for i in range(len(df))]\n",
        "  print(sampled_perturbations)\n",
        "  for param_name in params_to_perturb:\n",
        "    values = list(df[param_name])\n",
        "    new_values = [value + sampled_perturbation*stoichiometry[param_name]\n",
        "                  for sampled_perturbation,value in\n",
        "                  zip(sampled_perturbations,values)]\n",
        "    new_df[param_name] = new_values\n",
        "\n",
        "  return pd.DataFrame(new_df)\n",
        "\n",
        "variation_range = {\n",
        "    \"CT\": 3, \"SA\": 0.75, \"Phosphate\": 1.5, \"Nitrate\": 10,\n",
        "    \"Silicate\": 20, \"tCO2\": 100\n",
        "}\n",
        "\n",
        "perturb_endmember_df_stoichiometrically(\n",
        "    endmembers_df,\n",
        "    stoichiometry=convertedparamgroups[0].conversion_ratios[1],\n",
        "    perturbation_limits=(-0.5, 0.5),\n",
        "    rng = np.random.RandomState(1234))"
      ],
      "metadata": {
        "id": "gspeSP2ZaCB-"
      },
      "execution_count": null,
      "outputs": []
    }
  ]
}